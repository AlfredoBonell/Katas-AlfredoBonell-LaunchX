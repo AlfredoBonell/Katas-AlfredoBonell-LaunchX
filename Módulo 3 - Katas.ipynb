{
  "cells": [
    {
      "cell_type": "markdown",
      "metadata": {},
      "source": [
        "# Ejercicio #1 - Escribir declaraciones if, else, y elif\n",
        "\n",
        "Primer paso: Leer los requerimientos. ✌️\n",
        "\n",
        "Segundo paso: Empezar a codificar. ✌️\n",
        "\n",
        "Descripción del programa: Utilizar los condicionales if, else, elseif en Python."
      ]
    },
    {
      "cell_type": "code",
      "execution_count": 8,
      "metadata": {},
      "outputs": [
        {
          "name": "stdout",
          "output_type": "stream",
          "text": [
            "Advertencia! Se acerca un asteoride peligrosamente y va a 49km/s.\n"
          ]
        }
      ],
      "source": [
        "#asteroide = 14\n",
        "asteroide = 49\n",
        "\n",
        "if asteroide > 25:\n",
        "    print(\"Advertencia! Se acerca un asteoride peligrosamente y va a \" + str(asteroide) + \"km/s.\")\n",
        "else:\n",
        "    print(\"Información! No hay peligro de impacto por asteroide sobre la tierra\")"
      ]
    },
    {
      "cell_type": "markdown",
      "metadata": {},
      "source": [
        "# Ejercicio #2 Escribir declaraciones if, else, y elif\n",
        "\n",
        "Primer paso: Leer los requerimientos. ✌️\n",
        "\n",
        "Segundo paso: Empezar a codificar. ✌️\n",
        "\n",
        "Descripción del programa: Utilizar los condicionales if, else, elseif en Python."
      ]
    },
    {
      "cell_type": "code",
      "execution_count": 9,
      "metadata": {},
      "outputs": [
        {
          "name": "stdout",
          "output_type": "stream",
          "text": [
            "¡Nada que ver aquí!\n"
          ]
        }
      ],
      "source": [
        "asteroide = 19\n",
        "\n",
        "if asteroide > 20:\n",
        "    print('Look up! ¡Hay una luz mágica en el cielo!')\n",
        "elif asteroide == 20:\n",
        "    print('Look up! ¡Hay una luz mágica en el cielo!')\n",
        "else:\n",
        "    print('¡Nada que ver aquí!')"
      ]
    },
    {
      "cell_type": "markdown",
      "metadata": {},
      "source": [
        "# Ejercicio #3 Uso de operadores and y or\n",
        "\n",
        "Primer paso: Leer los requerimientos. ✌️\n",
        "\n",
        "Segundo paso: Empezar a codificar. ✌️\n",
        "\n",
        "Descripción del programa: Utilizar los operadores lógicos en Python."
      ]
    },
    {
      "cell_type": "code",
      "execution_count": 12,
      "metadata": {},
      "outputs": [
        {
          "name": "stdout",
          "output_type": "stream",
          "text": [
            "Advertencia! Se acerca un asteoride peligrosamente y va a 26km/s y con un dimensión de 40 metros.\n"
          ]
        }
      ],
      "source": [
        "velocidad_asteroide = 26\n",
        "tamano_asteroide = 40\n",
        "\n",
        "if velocidad_asteroide > 25 and tamano_asteroide > 25:\n",
        "    print(\"Advertencia! Se acerca un asteoride peligrosamente y va a \" + str(velocidad_asteroide) + \"km/s y con un dimensión de \" + str(tamano_asteroide) + \" metros.\")\n",
        "elif velocidad_asteroide >= 20:\n",
        "    print('Look up! ¡Hay una luz mágica en el cielo!')\n",
        "elif tamano_asteroide < 25:\n",
        "    print('Nada que ver aquí :)')\n",
        "else:\n",
        "    print('Nada que ver aquí :)')"
      ]
    }
  ],
  "metadata": {
    "interpreter": {
      "hash": "916dbcbb3f70747c44a77c7bcd40155683ae19c65e1c03b4aa3499c5328201f1"
    },
    "kernel_info": {
      "name": "conda-env-py37_default-py"
    },
    "kernelspec": {
      "display_name": "py37_default",
      "language": "python",
      "name": "python3"
    },
    "language_info": {
      "codemirror_mode": {
        "name": "ipython",
        "version": 3
      },
      "file_extension": ".py",
      "mimetype": "text/x-python",
      "name": "python",
      "nbconvert_exporter": "python",
      "pygments_lexer": "ipython3",
      "version": "3.10.2"
    },
    "nteract": {
      "version": "nteract-front-end@1.0.0"
    },
    "orig_nbformat": 4
  },
  "nbformat": 4,
  "nbformat_minor": 2
}
