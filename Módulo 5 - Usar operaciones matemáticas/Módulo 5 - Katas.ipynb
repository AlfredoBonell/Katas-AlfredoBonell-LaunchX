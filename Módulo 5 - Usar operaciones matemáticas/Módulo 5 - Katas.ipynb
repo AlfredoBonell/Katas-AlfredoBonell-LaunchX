{
 "cells": [
  {
   "cell_type": "markdown",
   "metadata": {},
   "source": [
    "# Ejercicio #1 - Utilizar operadores aritméticos\n",
    "\n",
    "Primer paso: Leer los requerimientos. ✌️\n",
    "\n",
    "Segundo paso: Empezar a codificar. ✌️\n",
    "\n",
    "Descripción del programa: Aprender el manejo de los operadores aritméticos"
   ]
  },
  {
   "cell_type": "markdown",
   "metadata": {},
   "source": [
    "### Operadores aritméticos en Python\n",
    "Python proporciona operadores aritméticos comunes para que puedas realizar operaciones matemáticas en tu código. Estos incluyen las cuatro operaciones principales de suma, resta, multiplicación y división.\n",
    "\n",
    "Exploremos cómo podemos crear un programa que pueda calcular la distancia entre dos planetas.  Comenzaremos usando dos distancias de planetas: Tierra (149.597.870 km) y Júpiter (778.547.200 km).\n",
    "\n",
    "> **TIP**\n",
    "> Dedica unos minutos a tratar de encontrar una solución. Luego desplázate hacia abajo hasta la parte inferior para ver si has logrado compilar el programa de acuerdo con las especificaciones.\n",
    "\n",
    "**Nota:** Quita las comas cuando uses los valores."
   ]
  },
  {
   "cell_type": "code",
   "execution_count": 6,
   "metadata": {},
   "outputs": [],
   "source": [
    "# Crear variables para almacenar las dos distancias\n",
    "# ¡Asegúrate de quitar las comas!\n",
    "\n",
    "planeta_uno = 149597870\n",
    "planeta_dos = 778547200"
   ]
  },
  {
   "cell_type": "markdown",
   "metadata": {},
   "source": [
    "### Realizar la operación\n",
    "\n",
    "Con los valores obtenidos, es el momento de añadir el código para realizar la operación. Restarás el primer planeta del segundo para determinar la distancia en kilómetros. A continuación, puedes convertir la distancia del kilómetro en millas multiplicándola por `0.621`."
   ]
  },
  {
   "cell_type": "code",
   "execution_count": 7,
   "metadata": {},
   "outputs": [
    {
     "name": "stdout",
     "output_type": "stream",
     "text": [
      "Resultado uno: 628949330\n",
      "Resultado dos: 390577533\n"
     ]
    }
   ],
   "source": [
    "# Calcular la distancia entre planetas\n",
    "\n",
    "resultado_kilometro = planeta_dos - planeta_uno\n",
    "\n",
    "print(\"Resultado uno: \" + str(resultado_kilometro))\n",
    "\n",
    "resultado_millas = resultado_kilometro * 0.621\n",
    "\n",
    "print(\"Resultado dos: \" + str(int(resultado_millas)))\n"
   ]
  },
  {
   "cell_type": "markdown",
   "metadata": {},
   "source": [
    "# Ejercicio #2 - Convierte cadenas en números y usa valores absolutos\n",
    "\n",
    "Primer paso: Leer los requerimientos. ✌️\n",
    "\n",
    "Segundo paso: Empezar a codificar. ✌️\n",
    "\n",
    "Descripción del programa: Crear una aplicación para trabajar con números y entrada de usuario"
   ]
  },
  {
   "cell_type": "markdown",
   "metadata": {},
   "source": [
    "### Lee los valores\n",
    "Usando `input`, agrega el código para leer la distancia del sol para cada planeta, considerando 2 planetas."
   ]
  },
  {
   "cell_type": "code",
   "execution_count": 8,
   "metadata": {},
   "outputs": [],
   "source": [
    "# Almacenar las entradas del usuario\n",
    "#Pista: variable = input(\"¿Cuál es tu nombre?\")\n",
    "\n",
    "planeta_uno = input(\"Introduzca la distancia del sol para el primer planeta en KM\")\n",
    "planeta_dos = input('Introduzca la distancia desde el sol para el segundo planeta en KM')"
   ]
  },
  {
   "cell_type": "markdown",
   "metadata": {},
   "source": [
    "### Convertir a número\n",
    "Debido a que `input` devuelve valores de cadena, necesitamos convertirlos en números. Para nuestro ejemplo, usaremos `int`"
   ]
  },
  {
   "cell_type": "code",
   "execution_count": 9,
   "metadata": {},
   "outputs": [],
   "source": [
    "# Convierte las cadenas de ambos planetas a números enteros\n",
    "\n",
    "# Se parsea los valores a enteros\n",
    "planeta_uno = int(planeta_uno)\n",
    "planeta_dos = int(planeta_dos)"
   ]
  },
  {
   "cell_type": "markdown",
   "metadata": {},
   "source": [
    "### Realizar el cálculo y convertir a valor absoluto\n",
    "\n",
    "Con los valores almacenados como números, ahora puedes agregar el código para realizar el cálculo, restando el primer planeta del segundo. Debido a que el segundo planeta podría ser un número mayor, usarás `abs` para convertirlo a un valor absoluto. También agregarás el código para mostrar el resultado en millas multiplicando la distancia del kilómetro por 0.621"
   ]
  },
  {
   "cell_type": "code",
   "execution_count": 10,
   "metadata": {},
   "outputs": [
    {
     "name": "stdout",
     "output_type": "stream",
     "text": [
      "Resultado uno: 1000\n",
      "Resultado dos: 621.0\n"
     ]
    }
   ],
   "source": [
    "# Realizar el cálculo y determinar el valor absoluto\n",
    "\n",
    "resultado_kilometro = planeta_dos - planeta_uno\n",
    "\n",
    "print(\"Resultado uno: \" + str(resultado_kilometro))\n",
    "\n",
    "# Convertir de KM a Millas\n",
    "\n",
    "resultado_millas = resultado_kilometro * 0.621\n",
    "\n",
    "print(\"Resultado dos: \" + str(abs(resultado_millas)))"
   ]
  }
 ],
 "metadata": {
  "interpreter": {
   "hash": "3d50778f0d976ee134ad16b7d438cc0d4a0a5c994fc3aaa18a51826687ff9cff"
  },
  "kernelspec": {
   "display_name": "Python 3.10.2 64-bit",
   "language": "python",
   "name": "python3"
  },
  "language_info": {
   "codemirror_mode": {
    "name": "ipython",
    "version": 3
   },
   "file_extension": ".py",
   "mimetype": "text/x-python",
   "name": "python",
   "nbconvert_exporter": "python",
   "pygments_lexer": "ipython3",
   "version": "3.10.2"
  },
  "orig_nbformat": 4
 },
 "nbformat": 4,
 "nbformat_minor": 2
}
