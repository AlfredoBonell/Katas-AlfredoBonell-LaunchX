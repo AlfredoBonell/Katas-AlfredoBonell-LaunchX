{
 "cells": [
  {
   "cell_type": "markdown",
   "metadata": {},
   "source": [
    "# Ejercicio #1 - Uso de funciones en Python\n",
    "\n",
    "Primer paso: Leer los requerimientos. ✌️\n",
    "\n",
    "Segundo paso: Empezar a codificar. ✌️\n",
    "\n",
    "Descripción del programa: Aprender a trabajar con argumentos en funciones"
   ]
  },
  {
   "cell_type": "code",
   "execution_count": 1,
   "metadata": {},
   "outputs": [
    {
     "name": "stdout",
     "output_type": "stream",
     "text": [
      "{'tanque_uno': 5, 'tanque_dos': 20, 'tanque_tres': 15, 'total_tanques': 3}\n"
     ]
    }
   ],
   "source": [
    "# Nota: Hice un arreglo de los valores que estoy mandando para recibirlos como parámetros\n",
    "\n",
    "parametros = {\n",
    "    'tanque_uno': 5,\n",
    "    'tanque_dos': 20,\n",
    "    'tanque_tres': 15,\n",
    "    'total_tanques' : 3\n",
    "}\n",
    "\n",
    "print(parametros)"
   ]
  },
  {
   "cell_type": "code",
   "execution_count": 2,
   "metadata": {},
   "outputs": [
    {
     "name": "stdout",
     "output_type": "stream",
     "text": [
      "El resultado del reporte es: \n",
      "\n",
      "    Tanque uno: 5%\n",
      "    Tanque dos: 20%\n",
      "    Tanque tres: 15%\n",
      "    Total de tanques: 3%\n",
      "    Promedio de tanques: 13%\n",
      "    \n"
     ]
    }
   ],
   "source": [
    "# Función para leer 3 tanques de combustible y muestre el promedio\n",
    "\n",
    "def generar_reporte(parametros):\n",
    "    return f\"\"\"\n",
    "    Tanque uno: {parametros['tanque_uno']}%\n",
    "    Tanque dos: {parametros['tanque_dos']}%\n",
    "    Tanque tres: {parametros['tanque_tres']}%\n",
    "    Total de tanques: {parametros['total_tanques']}%\n",
    "    Promedio de tanques: {int((parametros['tanque_uno'] + parametros['tanque_dos'] + parametros['tanque_tres']) / parametros['total_tanques'])}%\n",
    "    \"\"\"\n",
    "\n",
    "\n",
    "print(f'El resultado del reporte es: \\n{generar_reporte(parametros)}')"
   ]
  },
  {
   "cell_type": "markdown",
   "metadata": {},
   "source": [
    "Ahora que hemos definido la función de informes, vamos a comprobarlo. Para esta misión, los tanques no están llenos:"
   ]
  },
  {
   "cell_type": "code",
   "execution_count": 3,
   "metadata": {},
   "outputs": [
    {
     "name": "stdout",
     "output_type": "stream",
     "text": [
      "El resultado del reporte es: \n",
      "\n",
      "    Tanque uno: 5%\n",
      "    Tanque dos: 20%\n",
      "    Tanque tres: 15%\n",
      "    Total de tanques: 3%\n",
      "    Promedio de tanques: 13%\n",
      "    \n"
     ]
    }
   ],
   "source": [
    "# Llamamos a la función que genera el reporte print(funcion(tanque1, tanque2, tanque3))\n",
    "\n",
    "# Nota: Agregué un parámetro nuevo para recibir el total de tanques y así dividirlo directamente.\n",
    "\n",
    "print(f'El resultado del reporte es: \\n{generar_reporte(parametros)}')"
   ]
  },
  {
   "cell_type": "markdown",
   "metadata": {},
   "source": [
    "En lugar de simplemente crear el informe, la función también está calculando el promedio. Mejora la legibilidad extrayendo el cálculo promedio de la función en una nueva función para que el promedio se pueda hacer de forma independiente:"
   ]
  },
  {
   "cell_type": "code",
   "execution_count": 4,
   "metadata": {},
   "outputs": [
    {
     "name": "stdout",
     "output_type": "stream",
     "text": [
      "Resultado promedio de tanques: 13%\n"
     ]
    }
   ],
   "source": [
    "# Función promedio \n",
    "\n",
    "# Nota: Agregué un parámetro nuevo para recibir el total de tanques y así dividirlo directamente.\n",
    "\n",
    "def generar_promedio(parametros):\n",
    "    return int((parametros['tanque_uno'] + parametros['tanque_dos'] + parametros['tanque_tres']) / parametros['total_tanques'])\n",
    "\n",
    "print(f'Resultado promedio de tanques: {generar_promedio(parametros)}%')"
   ]
  },
  {
   "cell_type": "markdown",
   "metadata": {},
   "source": [
    "Ahora actualiza la función de informes para llamando a la nueva función del promedio:\n"
   ]
  },
  {
   "cell_type": "code",
   "execution_count": 5,
   "metadata": {},
   "outputs": [
    {
     "name": "stdout",
     "output_type": "stream",
     "text": [
      "El resultado del reporte es: \n",
      "\n",
      "    Reporte de gasolina\n",
      "    Tanque uno: 5%\n",
      "    Tanque dos: 20%\n",
      "    Tanque tres: 15%\n",
      "    Total de tanques: 3%\n",
      "    Promedio de tanques: 13%\n",
      "    \n"
     ]
    }
   ],
   "source": [
    "# Actualiza la función\n",
    "\n",
    "# Nota: Agregué un parámetro nuevo para recibir el total de tanques y así dividirlo directamente.\n",
    "\n",
    "def generar_reporte(parametros):\n",
    "    return f\"\"\"\n",
    "    Reporte de gasolina\n",
    "    Tanque uno: {parametros['tanque_uno']}%\n",
    "    Tanque dos: {parametros['tanque_dos']}%\n",
    "    Tanque tres: {parametros['tanque_tres']}%\n",
    "    Total de tanques: {parametros['total_tanques']}%\n",
    "    Promedio de tanques: {generar_promedio(parametros)}%\n",
    "    \"\"\"\n",
    "\n",
    "\n",
    "print(f'El resultado del reporte es: \\n{generar_reporte(parametros)}')"
   ]
  },
  {
   "cell_type": "markdown",
   "metadata": {},
   "source": [
    "# Ejercicio #2 - Trabajo con argumentos de palabra clave\n",
    "\n",
    "Primer paso: Leer los requerimientos. ✌️\n",
    "\n",
    "Segundo paso: Empezar a codificar. ✌️\n",
    "\n",
    "Descripción del programa: Aprender a trabajar con argumentos en funciones"
   ]
  },
  {
   "cell_type": "markdown",
   "metadata": {},
   "source": [
    "En este ejercicio, construirás un informe de cohete que requiere varias piezas de información, como el tiempo hasta el destino, el combustible a la izquierda y el nombre del destino. Comienza por crear una función que creará un informe preciso de la misión:"
   ]
  },
  {
   "cell_type": "code",
   "execution_count": 6,
   "metadata": {},
   "outputs": [
    {
     "name": "stdout",
     "output_type": "stream",
     "text": [
      "{'hora_lanzamiento': 16, 'tiempo_vuelo': 35, 'destino': 'Marte', 'tanque_externo': 57, 'tanque_interno': 15}\n"
     ]
    }
   ],
   "source": [
    "parametros_nuevos = {\n",
    "    'hora_lanzamiento': 16,\n",
    "    'tiempo_vuelo': 35,\n",
    "    'destino': 'Marte',\n",
    "    'tanque_externo': 57,\n",
    "    'tanque_interno': 15\n",
    "}\n",
    "\n",
    "print(parametros_nuevos)"
   ]
  },
  {
   "cell_type": "code",
   "execution_count": 7,
   "metadata": {},
   "outputs": [
    {
     "name": "stdout",
     "output_type": "stream",
     "text": [
      "\n",
      "    Reporte de cohete\n",
      "    Hora lazamiento: 16 horas\n",
      "    Tiempo vuelto: 35 horas\n",
      "    Destino: Marte\n",
      "    Tanque externo: 57%\n",
      "    Tanque interno: 15%\n",
      "    Total de combustible: 72%\n",
      "    Total de tiempo del vuelo: 51 horas\n",
      "    \n"
     ]
    }
   ],
   "source": [
    "# Función con un informe preciso de la misión. Considera hora de prelanzamiento, tiempo de vuelo, destino, tanque externo y tanque interno\n",
    "\n",
    "def generar_reporte(parametros):\n",
    "    return f\"\"\"\n",
    "    Reporte de cohete\n",
    "    Hora lazamiento: {parametros['hora_lanzamiento']} horas\n",
    "    Tiempo vuelto: {parametros['tiempo_vuelo']} horas\n",
    "    Destino: {parametros['destino']}\n",
    "    Tanque externo: {parametros['tanque_externo']}%\n",
    "    Tanque interno: {parametros['tanque_interno']}%\n",
    "    Total de combustible: {parametros['tanque_externo'] + parametros['tanque_interno']}%\n",
    "    Total de tiempo del vuelo: {parametros['hora_lanzamiento'] + parametros['tiempo_vuelo']} horas\n",
    "    \"\"\"\n",
    "\n",
    "print(generar_reporte(parametros_nuevos))\n"
   ]
  },
  {
   "cell_type": "markdown",
   "metadata": {},
   "source": [
    "La función es problemática porque no se puede adaptar para minutos adicionales o tanques adicionales de combustible. Hazlo más flexible permitiendo cualquier número de pasos basados en el tiempo y cualquier número de tanques. En lugar de usar `*args` y `**kwargs`, aprovecha el hecho de que puedes usar cualquier nombre que desees. Asegurate que la función sea más legible mediante el uso de nombres de variables que están asociados con las entradas, como `*minutes` y `**fuel_reservoirs`:"
   ]
  },
  {
   "cell_type": "code",
   "execution_count": 8,
   "metadata": {},
   "outputs": [
    {
     "name": "stdout",
     "output_type": "stream",
     "text": [
      "\n",
      "    Reporte de cohete\n",
      "    Destino: Marte\n",
      "    Total de tiempo del vuelo: 7 horas\n",
      "    Total de combustible: 72%\n",
      "    \n"
     ]
    }
   ],
   "source": [
    "# Escribe tu nueva función de reporte considerando lo anterior\n",
    "\n",
    "def generar_reporte(destino, *minutos, **combustible):\n",
    "    return f\"\"\"\n",
    "    Reporte de cohete\n",
    "    Destino: {destino}\n",
    "    Total de tiempo del vuelo: {int(sum(minutos) / 60)} horas\n",
    "    Total de combustible: {sum(combustible.values())}%\n",
    "    \"\"\"\n",
    "\n",
    "print(generar_reporte(\"Marte\", 200, 90, 150, tanque_interno=15, tanque_externo=57))"
   ]
  },
  {
   "cell_type": "markdown",
   "metadata": {},
   "source": [
    "Debido a que el combustible que queda en los tanques es específico de cada tanque, actualiza la función para usar el nombre de cada tanque en el informe:"
   ]
  },
  {
   "cell_type": "code",
   "execution_count": 9,
   "metadata": {},
   "outputs": [
    {
     "name": "stdout",
     "output_type": "stream",
     "text": [
      "\n",
      "    Reporte de cohete\n",
      "    Destino: Marte\n",
      "    Total de tiempo del vuelo: 7 horas\n",
      "    Total de combustible: 610000\n",
      "    \n",
      "        Tanque interno: tanque_interno\n",
      "        Tanque interno: 600000\n",
      "        \n",
      "        Tanque externo: tanque_externo\n",
      "        Tanque externo: 10000\n",
      "        \n"
     ]
    }
   ],
   "source": [
    "# Escribe tu nueva función\n",
    "\n",
    "titulos = {\n",
    "    0: \"Tanque interno:\",\n",
    "    1: \"Tanque externo:\"   \n",
    "}\n",
    "\n",
    "def generar_reporte(destino, *minutos, **combustible):\n",
    "    informe = f\"\"\"\n",
    "    Reporte de cohete\n",
    "    Destino: {destino}\n",
    "    Total de tiempo del vuelo: {int(sum(minutos) / 60)} horas\n",
    "    Total de combustible: {sum(combustible.values())}\n",
    "    \"\"\"\n",
    "\n",
    "    contador = 0\n",
    "    for tanque_interno, tanque_externo in combustible.items():\n",
    "        informe += f\"\"\"\n",
    "        {titulos[contador]} {tanque_interno}\n",
    "        {titulos[contador]} {tanque_externo}\n",
    "        \"\"\"\n",
    "        contador = contador + 1\n",
    "    return informe\n",
    "\n",
    "print(generar_reporte(\"Marte\", 200, 90, 150, tanque_interno=600000, tanque_externo=10000))\n",
    "\n",
    "# Nota: No pude quitar como los keys de los argumentos de combustibles para que no me saliera \n",
    "# Tanque interno: tanque_interno y Tanque externo: tanque_externo, intenté validando que solamente entrara en el ciclo valores\n",
    "# numericos pero me daba como false, nada más tuve ese detalle al querer hacerlo diferente. :("
   ]
  },
  {
   "cell_type": "code",
   "execution_count": null,
   "metadata": {},
   "outputs": [],
   "source": []
  }
 ],
 "metadata": {
  "interpreter": {
   "hash": "3d50778f0d976ee134ad16b7d438cc0d4a0a5c994fc3aaa18a51826687ff9cff"
  },
  "kernelspec": {
   "display_name": "Python 3.10.2 64-bit",
   "language": "python",
   "name": "python3"
  },
  "language_info": {
   "codemirror_mode": {
    "name": "ipython",
    "version": 3
   },
   "file_extension": ".py",
   "mimetype": "text/x-python",
   "name": "python",
   "nbconvert_exporter": "python",
   "pygments_lexer": "ipython3",
   "version": "3.10.2"
  },
  "orig_nbformat": 4
 },
 "nbformat": 4,
 "nbformat_minor": 2
}
